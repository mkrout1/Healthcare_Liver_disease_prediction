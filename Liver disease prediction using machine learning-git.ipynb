{
 "cells": [
  {
   "cell_type": "markdown",
   "id": "4b43d7fb",
   "metadata": {},
   "source": [
    "# Liver disease prediction"
   ]
  },
  {
   "cell_type": "markdown",
   "id": "0822fc19",
   "metadata": {},
   "source": [
    "dataset source: UCI ML Repository\n",
    "https://archive.ics.uci.edu/ml/datasets/ILPD+(Indian+Liver+Patient+Dataset)\n",
    "\n",
    "**Information**\n",
    "\n",
    "Data Set Information:\n",
    "\n",
    "This data set contains 416 liver patient records and 167 non liver patient records.The data set was collected from north east of Andhra Pradesh, India. Selector is a class label used to divide into groups(liver patient or not). This data set contains 441 male patient records and 142 female patient records.\n",
    "\n",
    "Any patient whose age exceeded 89 is listed as being of age \"90\".\n",
    "\n",
    "\n",
    "Attribute Information:\n",
    "\n",
    "1. Age Age of the patient\n",
    "2. Gender Gender of the patient\n",
    "3. TB Total Bilirubin\n",
    "4. DB Direct Bilirubin\n",
    "5. Alkphos Alkaline Phosphotase\n",
    "6. Sgpt Alamine Aminotransferase\n",
    "7. Sgot Aspartate Aminotransferase\n",
    "8. TP Total Protiens\n",
    "9. ALB Albumin\n",
    "10. A/G Ratio Albumin and Globulin Ratio\n",
    "11. Selector field used to split the data into two sets (labeled by the experts)\n",
    "\n",
    "attribute 11:\n",
    "1. patient\n",
    "2. not patient"
   ]
  },
  {
   "cell_type": "markdown",
   "id": "a5a4e366",
   "metadata": {},
   "source": [
    "# import libraries"
   ]
  },
  {
   "cell_type": "code",
   "execution_count": 14,
   "id": "ca1a89a0",
   "metadata": {
    "ExecuteTime": {
     "end_time": "2022-02-13T05:02:39.653742Z",
     "start_time": "2022-02-13T05:02:39.404294Z"
    }
   },
   "outputs": [],
   "source": [
    "import pandas as pd\n",
    "import numpy as np\n",
    "import matplotlib.pyplot as plt\n",
    "import seaborn as sns\n",
    "import missingno as msno\n",
    "\n",
    "\n",
    "# import models\n",
    "from sklearn.model_selection import train_test_split,GridSearchCV,cross_val_score\n",
    "from sklearn.metrics import confusion_matrix, accuracy_score, classification_report\n",
    "\n",
    "from sklearn.linear_model import LogisticRegression\n",
    "from sklearn.neighbors import KNeighborsClassifier\n",
    "from sklearn.svm import SVC\n",
    "from sklearn.tree import DecisionTreeClassifier\n",
    "from sklearn.ensemble import RandomForestClassifier\n",
    "from sklearn.ensemble import GradientBoostingClassifier\n",
    "from lightgbm import LGBMClassifier\n",
    "from sklearn.model_selection import KFold\n",
    "from sklearn.neural_network import MLPClassifier"
   ]
  },
  {
   "cell_type": "markdown",
   "id": "817ce410",
   "metadata": {},
   "source": [
    "# Explorative data analysis"
   ]
  },
  {
   "cell_type": "code",
   "execution_count": 15,
   "id": "559d8b3c",
   "metadata": {
    "ExecuteTime": {
     "end_time": "2022-02-13T05:02:41.295622Z",
     "start_time": "2022-02-13T05:02:41.142420Z"
    }
   },
   "outputs": [
    {
     "data": {
      "text/html": [
       "<div>\n",
       "<style scoped>\n",
       "    .dataframe tbody tr th:only-of-type {\n",
       "        vertical-align: middle;\n",
       "    }\n",
       "\n",
       "    .dataframe tbody tr th {\n",
       "        vertical-align: top;\n",
       "    }\n",
       "\n",
       "    .dataframe thead th {\n",
       "        text-align: right;\n",
       "    }\n",
       "</style>\n",
       "<table border=\"1\" class=\"dataframe\">\n",
       "  <thead>\n",
       "    <tr style=\"text-align: right;\">\n",
       "      <th></th>\n",
       "      <th>Age</th>\n",
       "      <th>Gender</th>\n",
       "      <th>Total_Bilirubin</th>\n",
       "      <th>Direct_Bilirubin</th>\n",
       "      <th>Alkaline_Phosphotase</th>\n",
       "      <th>Alamine_Aminotransferase</th>\n",
       "      <th>Aspartate_Aminotransferase</th>\n",
       "      <th>Total_Protiens</th>\n",
       "      <th>Albumin</th>\n",
       "      <th>Albumin_and_Globulin_Ratio</th>\n",
       "      <th>Dataset</th>\n",
       "    </tr>\n",
       "  </thead>\n",
       "  <tbody>\n",
       "    <tr>\n",
       "      <th>0</th>\n",
       "      <td>65</td>\n",
       "      <td>Female</td>\n",
       "      <td>0.7</td>\n",
       "      <td>0.1</td>\n",
       "      <td>187</td>\n",
       "      <td>16</td>\n",
       "      <td>18</td>\n",
       "      <td>6.8</td>\n",
       "      <td>3.3</td>\n",
       "      <td>0.90</td>\n",
       "      <td>1</td>\n",
       "    </tr>\n",
       "    <tr>\n",
       "      <th>1</th>\n",
       "      <td>62</td>\n",
       "      <td>Male</td>\n",
       "      <td>10.9</td>\n",
       "      <td>5.5</td>\n",
       "      <td>699</td>\n",
       "      <td>64</td>\n",
       "      <td>100</td>\n",
       "      <td>7.5</td>\n",
       "      <td>3.2</td>\n",
       "      <td>0.74</td>\n",
       "      <td>1</td>\n",
       "    </tr>\n",
       "    <tr>\n",
       "      <th>2</th>\n",
       "      <td>62</td>\n",
       "      <td>Male</td>\n",
       "      <td>7.3</td>\n",
       "      <td>4.1</td>\n",
       "      <td>490</td>\n",
       "      <td>60</td>\n",
       "      <td>68</td>\n",
       "      <td>7.0</td>\n",
       "      <td>3.3</td>\n",
       "      <td>0.89</td>\n",
       "      <td>1</td>\n",
       "    </tr>\n",
       "    <tr>\n",
       "      <th>3</th>\n",
       "      <td>58</td>\n",
       "      <td>Male</td>\n",
       "      <td>1.0</td>\n",
       "      <td>0.4</td>\n",
       "      <td>182</td>\n",
       "      <td>14</td>\n",
       "      <td>20</td>\n",
       "      <td>6.8</td>\n",
       "      <td>3.4</td>\n",
       "      <td>1.00</td>\n",
       "      <td>1</td>\n",
       "    </tr>\n",
       "    <tr>\n",
       "      <th>4</th>\n",
       "      <td>72</td>\n",
       "      <td>Male</td>\n",
       "      <td>3.9</td>\n",
       "      <td>2.0</td>\n",
       "      <td>195</td>\n",
       "      <td>27</td>\n",
       "      <td>59</td>\n",
       "      <td>7.3</td>\n",
       "      <td>2.4</td>\n",
       "      <td>0.40</td>\n",
       "      <td>1</td>\n",
       "    </tr>\n",
       "    <tr>\n",
       "      <th>...</th>\n",
       "      <td>...</td>\n",
       "      <td>...</td>\n",
       "      <td>...</td>\n",
       "      <td>...</td>\n",
       "      <td>...</td>\n",
       "      <td>...</td>\n",
       "      <td>...</td>\n",
       "      <td>...</td>\n",
       "      <td>...</td>\n",
       "      <td>...</td>\n",
       "      <td>...</td>\n",
       "    </tr>\n",
       "    <tr>\n",
       "      <th>578</th>\n",
       "      <td>60</td>\n",
       "      <td>Male</td>\n",
       "      <td>0.5</td>\n",
       "      <td>0.1</td>\n",
       "      <td>500</td>\n",
       "      <td>20</td>\n",
       "      <td>34</td>\n",
       "      <td>5.9</td>\n",
       "      <td>1.6</td>\n",
       "      <td>0.37</td>\n",
       "      <td>2</td>\n",
       "    </tr>\n",
       "    <tr>\n",
       "      <th>579</th>\n",
       "      <td>40</td>\n",
       "      <td>Male</td>\n",
       "      <td>0.6</td>\n",
       "      <td>0.1</td>\n",
       "      <td>98</td>\n",
       "      <td>35</td>\n",
       "      <td>31</td>\n",
       "      <td>6.0</td>\n",
       "      <td>3.2</td>\n",
       "      <td>1.10</td>\n",
       "      <td>1</td>\n",
       "    </tr>\n",
       "    <tr>\n",
       "      <th>580</th>\n",
       "      <td>52</td>\n",
       "      <td>Male</td>\n",
       "      <td>0.8</td>\n",
       "      <td>0.2</td>\n",
       "      <td>245</td>\n",
       "      <td>48</td>\n",
       "      <td>49</td>\n",
       "      <td>6.4</td>\n",
       "      <td>3.2</td>\n",
       "      <td>1.00</td>\n",
       "      <td>1</td>\n",
       "    </tr>\n",
       "    <tr>\n",
       "      <th>581</th>\n",
       "      <td>31</td>\n",
       "      <td>Male</td>\n",
       "      <td>1.3</td>\n",
       "      <td>0.5</td>\n",
       "      <td>184</td>\n",
       "      <td>29</td>\n",
       "      <td>32</td>\n",
       "      <td>6.8</td>\n",
       "      <td>3.4</td>\n",
       "      <td>1.00</td>\n",
       "      <td>1</td>\n",
       "    </tr>\n",
       "    <tr>\n",
       "      <th>582</th>\n",
       "      <td>38</td>\n",
       "      <td>Male</td>\n",
       "      <td>1.0</td>\n",
       "      <td>0.3</td>\n",
       "      <td>216</td>\n",
       "      <td>21</td>\n",
       "      <td>24</td>\n",
       "      <td>7.3</td>\n",
       "      <td>4.4</td>\n",
       "      <td>1.50</td>\n",
       "      <td>2</td>\n",
       "    </tr>\n",
       "  </tbody>\n",
       "</table>\n",
       "<p>583 rows × 11 columns</p>\n",
       "</div>"
      ],
      "text/plain": [
       "     Age  Gender  Total_Bilirubin  Direct_Bilirubin  Alkaline_Phosphotase  \\\n",
       "0     65  Female              0.7               0.1                   187   \n",
       "1     62    Male             10.9               5.5                   699   \n",
       "2     62    Male              7.3               4.1                   490   \n",
       "3     58    Male              1.0               0.4                   182   \n",
       "4     72    Male              3.9               2.0                   195   \n",
       "..   ...     ...              ...               ...                   ...   \n",
       "578   60    Male              0.5               0.1                   500   \n",
       "579   40    Male              0.6               0.1                    98   \n",
       "580   52    Male              0.8               0.2                   245   \n",
       "581   31    Male              1.3               0.5                   184   \n",
       "582   38    Male              1.0               0.3                   216   \n",
       "\n",
       "     Alamine_Aminotransferase  Aspartate_Aminotransferase  Total_Protiens  \\\n",
       "0                          16                          18             6.8   \n",
       "1                          64                         100             7.5   \n",
       "2                          60                          68             7.0   \n",
       "3                          14                          20             6.8   \n",
       "4                          27                          59             7.3   \n",
       "..                        ...                         ...             ...   \n",
       "578                        20                          34             5.9   \n",
       "579                        35                          31             6.0   \n",
       "580                        48                          49             6.4   \n",
       "581                        29                          32             6.8   \n",
       "582                        21                          24             7.3   \n",
       "\n",
       "     Albumin  Albumin_and_Globulin_Ratio  Dataset  \n",
       "0        3.3                        0.90        1  \n",
       "1        3.2                        0.74        1  \n",
       "2        3.3                        0.89        1  \n",
       "3        3.4                        1.00        1  \n",
       "4        2.4                        0.40        1  \n",
       "..       ...                         ...      ...  \n",
       "578      1.6                        0.37        2  \n",
       "579      3.2                        1.10        1  \n",
       "580      3.2                        1.00        1  \n",
       "581      3.4                        1.00        1  \n",
       "582      4.4                        1.50        2  \n",
       "\n",
       "[583 rows x 11 columns]"
      ]
     },
     "execution_count": 15,
     "metadata": {},
     "output_type": "execute_result"
    }
   ],
   "source": [
    "data_path = 'indian_liver_patient.csv'\n",
    "data = pd.read_csv(data_path)\n",
    "data"
   ]
  },
  {
   "cell_type": "code",
   "execution_count": 16,
   "id": "a6cf94b5",
   "metadata": {
    "ExecuteTime": {
     "end_time": "2022-02-13T05:02:42.899047Z",
     "start_time": "2022-02-13T05:02:42.836921Z"
    }
   },
   "outputs": [
    {
     "name": "stdout",
     "output_type": "stream",
     "text": [
      "<class 'pandas.core.frame.DataFrame'>\n",
      "RangeIndex: 583 entries, 0 to 582\n",
      "Data columns (total 11 columns):\n",
      " #   Column                      Non-Null Count  Dtype  \n",
      "---  ------                      --------------  -----  \n",
      " 0   Age                         583 non-null    int64  \n",
      " 1   Gender                      583 non-null    object \n",
      " 2   Total_Bilirubin             583 non-null    float64\n",
      " 3   Direct_Bilirubin            583 non-null    float64\n",
      " 4   Alkaline_Phosphotase        583 non-null    int64  \n",
      " 5   Alamine_Aminotransferase    583 non-null    int64  \n",
      " 6   Aspartate_Aminotransferase  583 non-null    int64  \n",
      " 7   Total_Protiens              583 non-null    float64\n",
      " 8   Albumin                     583 non-null    float64\n",
      " 9   Albumin_and_Globulin_Ratio  579 non-null    float64\n",
      " 10  Dataset                     583 non-null    int64  \n",
      "dtypes: float64(5), int64(5), object(1)\n",
      "memory usage: 50.2+ KB\n"
     ]
    }
   ],
   "source": [
    "data.info()"
   ]
  },
  {
   "cell_type": "markdown",
   "id": "313d10d2",
   "metadata": {},
   "source": [
    "'Albumin_and_Globulin_Ratio' column has 4 missing values as Non-Null is 579."
   ]
  },
  {
   "cell_type": "code",
   "execution_count": 17,
   "id": "8d675ce5",
   "metadata": {
    "ExecuteTime": {
     "end_time": "2022-02-13T05:02:44.389947Z",
     "start_time": "2022-02-13T05:02:44.329514Z"
    }
   },
   "outputs": [
    {
     "data": {
      "text/html": [
       "<div>\n",
       "<style scoped>\n",
       "    .dataframe tbody tr th:only-of-type {\n",
       "        vertical-align: middle;\n",
       "    }\n",
       "\n",
       "    .dataframe tbody tr th {\n",
       "        vertical-align: top;\n",
       "    }\n",
       "\n",
       "    .dataframe thead th {\n",
       "        text-align: right;\n",
       "    }\n",
       "</style>\n",
       "<table border=\"1\" class=\"dataframe\">\n",
       "  <thead>\n",
       "    <tr style=\"text-align: right;\">\n",
       "      <th></th>\n",
       "      <th>Age</th>\n",
       "      <th>Gender</th>\n",
       "      <th>Total_Bilirubin</th>\n",
       "      <th>Direct_Bilirubin</th>\n",
       "      <th>Alkaline_Phosphotase</th>\n",
       "      <th>Alamine_Aminotransferase</th>\n",
       "      <th>Aspartate_Aminotransferase</th>\n",
       "      <th>Total_Protiens</th>\n",
       "      <th>Albumin</th>\n",
       "      <th>Albumin_and_Globulin_Ratio</th>\n",
       "      <th>Dataset</th>\n",
       "    </tr>\n",
       "  </thead>\n",
       "  <tbody>\n",
       "    <tr>\n",
       "      <th>count</th>\n",
       "      <td>583.000000</td>\n",
       "      <td>583</td>\n",
       "      <td>583.000000</td>\n",
       "      <td>583.000000</td>\n",
       "      <td>583.000000</td>\n",
       "      <td>583.000000</td>\n",
       "      <td>583.000000</td>\n",
       "      <td>583.000000</td>\n",
       "      <td>583.000000</td>\n",
       "      <td>579.000000</td>\n",
       "      <td>583.000000</td>\n",
       "    </tr>\n",
       "    <tr>\n",
       "      <th>unique</th>\n",
       "      <td>NaN</td>\n",
       "      <td>2</td>\n",
       "      <td>NaN</td>\n",
       "      <td>NaN</td>\n",
       "      <td>NaN</td>\n",
       "      <td>NaN</td>\n",
       "      <td>NaN</td>\n",
       "      <td>NaN</td>\n",
       "      <td>NaN</td>\n",
       "      <td>NaN</td>\n",
       "      <td>NaN</td>\n",
       "    </tr>\n",
       "    <tr>\n",
       "      <th>top</th>\n",
       "      <td>NaN</td>\n",
       "      <td>Male</td>\n",
       "      <td>NaN</td>\n",
       "      <td>NaN</td>\n",
       "      <td>NaN</td>\n",
       "      <td>NaN</td>\n",
       "      <td>NaN</td>\n",
       "      <td>NaN</td>\n",
       "      <td>NaN</td>\n",
       "      <td>NaN</td>\n",
       "      <td>NaN</td>\n",
       "    </tr>\n",
       "    <tr>\n",
       "      <th>freq</th>\n",
       "      <td>NaN</td>\n",
       "      <td>441</td>\n",
       "      <td>NaN</td>\n",
       "      <td>NaN</td>\n",
       "      <td>NaN</td>\n",
       "      <td>NaN</td>\n",
       "      <td>NaN</td>\n",
       "      <td>NaN</td>\n",
       "      <td>NaN</td>\n",
       "      <td>NaN</td>\n",
       "      <td>NaN</td>\n",
       "    </tr>\n",
       "    <tr>\n",
       "      <th>mean</th>\n",
       "      <td>44.746141</td>\n",
       "      <td>NaN</td>\n",
       "      <td>3.298799</td>\n",
       "      <td>1.486106</td>\n",
       "      <td>290.576329</td>\n",
       "      <td>80.713551</td>\n",
       "      <td>109.910806</td>\n",
       "      <td>6.483190</td>\n",
       "      <td>3.141852</td>\n",
       "      <td>0.947064</td>\n",
       "      <td>1.286449</td>\n",
       "    </tr>\n",
       "    <tr>\n",
       "      <th>std</th>\n",
       "      <td>16.189833</td>\n",
       "      <td>NaN</td>\n",
       "      <td>6.209522</td>\n",
       "      <td>2.808498</td>\n",
       "      <td>242.937989</td>\n",
       "      <td>182.620356</td>\n",
       "      <td>288.918529</td>\n",
       "      <td>1.085451</td>\n",
       "      <td>0.795519</td>\n",
       "      <td>0.319592</td>\n",
       "      <td>0.452490</td>\n",
       "    </tr>\n",
       "    <tr>\n",
       "      <th>min</th>\n",
       "      <td>4.000000</td>\n",
       "      <td>NaN</td>\n",
       "      <td>0.400000</td>\n",
       "      <td>0.100000</td>\n",
       "      <td>63.000000</td>\n",
       "      <td>10.000000</td>\n",
       "      <td>10.000000</td>\n",
       "      <td>2.700000</td>\n",
       "      <td>0.900000</td>\n",
       "      <td>0.300000</td>\n",
       "      <td>1.000000</td>\n",
       "    </tr>\n",
       "    <tr>\n",
       "      <th>25%</th>\n",
       "      <td>33.000000</td>\n",
       "      <td>NaN</td>\n",
       "      <td>0.800000</td>\n",
       "      <td>0.200000</td>\n",
       "      <td>175.500000</td>\n",
       "      <td>23.000000</td>\n",
       "      <td>25.000000</td>\n",
       "      <td>5.800000</td>\n",
       "      <td>2.600000</td>\n",
       "      <td>0.700000</td>\n",
       "      <td>1.000000</td>\n",
       "    </tr>\n",
       "    <tr>\n",
       "      <th>50%</th>\n",
       "      <td>45.000000</td>\n",
       "      <td>NaN</td>\n",
       "      <td>1.000000</td>\n",
       "      <td>0.300000</td>\n",
       "      <td>208.000000</td>\n",
       "      <td>35.000000</td>\n",
       "      <td>42.000000</td>\n",
       "      <td>6.600000</td>\n",
       "      <td>3.100000</td>\n",
       "      <td>0.930000</td>\n",
       "      <td>1.000000</td>\n",
       "    </tr>\n",
       "    <tr>\n",
       "      <th>75%</th>\n",
       "      <td>58.000000</td>\n",
       "      <td>NaN</td>\n",
       "      <td>2.600000</td>\n",
       "      <td>1.300000</td>\n",
       "      <td>298.000000</td>\n",
       "      <td>60.500000</td>\n",
       "      <td>87.000000</td>\n",
       "      <td>7.200000</td>\n",
       "      <td>3.800000</td>\n",
       "      <td>1.100000</td>\n",
       "      <td>2.000000</td>\n",
       "    </tr>\n",
       "    <tr>\n",
       "      <th>max</th>\n",
       "      <td>90.000000</td>\n",
       "      <td>NaN</td>\n",
       "      <td>75.000000</td>\n",
       "      <td>19.700000</td>\n",
       "      <td>2110.000000</td>\n",
       "      <td>2000.000000</td>\n",
       "      <td>4929.000000</td>\n",
       "      <td>9.600000</td>\n",
       "      <td>5.500000</td>\n",
       "      <td>2.800000</td>\n",
       "      <td>2.000000</td>\n",
       "    </tr>\n",
       "  </tbody>\n",
       "</table>\n",
       "</div>"
      ],
      "text/plain": [
       "               Age Gender  Total_Bilirubin  Direct_Bilirubin  \\\n",
       "count   583.000000    583       583.000000        583.000000   \n",
       "unique         NaN      2              NaN               NaN   \n",
       "top            NaN   Male              NaN               NaN   \n",
       "freq           NaN    441              NaN               NaN   \n",
       "mean     44.746141    NaN         3.298799          1.486106   \n",
       "std      16.189833    NaN         6.209522          2.808498   \n",
       "min       4.000000    NaN         0.400000          0.100000   \n",
       "25%      33.000000    NaN         0.800000          0.200000   \n",
       "50%      45.000000    NaN         1.000000          0.300000   \n",
       "75%      58.000000    NaN         2.600000          1.300000   \n",
       "max      90.000000    NaN        75.000000         19.700000   \n",
       "\n",
       "        Alkaline_Phosphotase  Alamine_Aminotransferase  \\\n",
       "count             583.000000                583.000000   \n",
       "unique                   NaN                       NaN   \n",
       "top                      NaN                       NaN   \n",
       "freq                     NaN                       NaN   \n",
       "mean              290.576329                 80.713551   \n",
       "std               242.937989                182.620356   \n",
       "min                63.000000                 10.000000   \n",
       "25%               175.500000                 23.000000   \n",
       "50%               208.000000                 35.000000   \n",
       "75%               298.000000                 60.500000   \n",
       "max              2110.000000               2000.000000   \n",
       "\n",
       "        Aspartate_Aminotransferase  Total_Protiens     Albumin  \\\n",
       "count                   583.000000      583.000000  583.000000   \n",
       "unique                         NaN             NaN         NaN   \n",
       "top                            NaN             NaN         NaN   \n",
       "freq                           NaN             NaN         NaN   \n",
       "mean                    109.910806        6.483190    3.141852   \n",
       "std                     288.918529        1.085451    0.795519   \n",
       "min                      10.000000        2.700000    0.900000   \n",
       "25%                      25.000000        5.800000    2.600000   \n",
       "50%                      42.000000        6.600000    3.100000   \n",
       "75%                      87.000000        7.200000    3.800000   \n",
       "max                    4929.000000        9.600000    5.500000   \n",
       "\n",
       "        Albumin_and_Globulin_Ratio     Dataset  \n",
       "count                   579.000000  583.000000  \n",
       "unique                         NaN         NaN  \n",
       "top                            NaN         NaN  \n",
       "freq                           NaN         NaN  \n",
       "mean                      0.947064    1.286449  \n",
       "std                       0.319592    0.452490  \n",
       "min                       0.300000    1.000000  \n",
       "25%                       0.700000    1.000000  \n",
       "50%                       0.930000    1.000000  \n",
       "75%                       1.100000    2.000000  \n",
       "max                       2.800000    2.000000  "
      ]
     },
     "execution_count": 17,
     "metadata": {},
     "output_type": "execute_result"
    }
   ],
   "source": [
    "data.describe(include='all')"
   ]
  },
  {
   "cell_type": "code",
   "execution_count": 18,
   "id": "76785040",
   "metadata": {
    "ExecuteTime": {
     "end_time": "2022-02-13T05:02:46.509260Z",
     "start_time": "2022-02-13T05:02:46.479312Z"
    }
   },
   "outputs": [
    {
     "data": {
      "text/plain": [
       "Age                            44.746141\n",
       "Gender                               NaN\n",
       "Total_Bilirubin                 3.298799\n",
       "Direct_Bilirubin                1.486106\n",
       "Alkaline_Phosphotase          290.576329\n",
       "Alamine_Aminotransferase       80.713551\n",
       "Aspartate_Aminotransferase    109.910806\n",
       "Total_Protiens                   6.48319\n",
       "Albumin                         3.141852\n",
       "Albumin_and_Globulin_Ratio      0.947064\n",
       "Dataset                         1.286449\n",
       "Name: mean, dtype: object"
      ]
     },
     "execution_count": 18,
     "metadata": {},
     "output_type": "execute_result"
    }
   ],
   "source": [
    "data.describe(include='all').loc['mean']"
   ]
  },
  {
   "cell_type": "markdown",
   "id": "1dca151b",
   "metadata": {},
   "source": [
    "mean values fluctuates quite a lot highest and lowest values are   'Alkaline_Phosphotase' = 290.576329 and\n",
    "Albumin_and_Globulin_Ratio = 0.947064  \n",
    "The data needs be  normalized"
   ]
  },
  {
   "cell_type": "code",
   "execution_count": 32,
   "id": "796f0b8f",
   "metadata": {
    "ExecuteTime": {
     "end_time": "2022-02-13T05:04:56.160008Z",
     "start_time": "2022-02-13T05:04:56.154939Z"
    }
   },
   "outputs": [
    {
     "data": {
      "text/plain": [
       "Index(['Age', 'Gender', 'Total_Bilirubin', 'Direct_Bilirubin',\n",
       "       'Alkaline_Phosphotase', 'Alamine_Aminotransferase',\n",
       "       'Aspartate_Aminotransferase', 'Total_Protiens', 'Albumin',\n",
       "       'Albumin_and_Globulin_Ratio', 'Outcome'],\n",
       "      dtype='object')"
      ]
     },
     "execution_count": 32,
     "metadata": {},
     "output_type": "execute_result"
    }
   ],
   "source": [
    "# change the column name 'Dataset' to 'Outcome'\n",
    "data.rename(columns={'Dataset':'Outcome'},inplace=True)\n",
    "data.columns"
   ]
  },
  {
   "cell_type": "code",
   "execution_count": 33,
   "id": "dc2a163a",
   "metadata": {
    "ExecuteTime": {
     "end_time": "2022-02-13T05:04:57.880718Z",
     "start_time": "2022-02-13T05:04:57.875729Z"
    }
   },
   "outputs": [
    {
     "data": {
      "text/plain": [
       "0      1\n",
       "1      1\n",
       "2      1\n",
       "3      1\n",
       "4      1\n",
       "      ..\n",
       "578    2\n",
       "579    1\n",
       "580    1\n",
       "581    1\n",
       "582    2\n",
       "Name: Outcome, Length: 583, dtype: int64"
      ]
     },
     "execution_count": 33,
     "metadata": {},
     "output_type": "execute_result"
    }
   ],
   "source": [
    "data.Outcome"
   ]
  },
  {
   "cell_type": "code",
   "execution_count": 34,
   "id": "59e40806",
   "metadata": {
    "ExecuteTime": {
     "end_time": "2022-02-13T05:05:02.561332Z",
     "start_time": "2022-02-13T05:05:00.663716Z"
    }
   },
   "outputs": [
    {
     "data": {
      "text/plain": [
       "array([[<AxesSubplot:title={'center':'Age'}>,\n",
       "        <AxesSubplot:title={'center':'Total_Bilirubin'}>,\n",
       "        <AxesSubplot:title={'center':'Direct_Bilirubin'}>],\n",
       "       [<AxesSubplot:title={'center':'Alkaline_Phosphotase'}>,\n",
       "        <AxesSubplot:title={'center':'Alamine_Aminotransferase'}>,\n",
       "        <AxesSubplot:title={'center':'Aspartate_Aminotransferase'}>],\n",
       "       [<AxesSubplot:title={'center':'Total_Protiens'}>,\n",
       "        <AxesSubplot:title={'center':'Albumin'}>,\n",
       "        <AxesSubplot:title={'center':'Albumin_and_Globulin_Ratio'}>],\n",
       "       [<AxesSubplot:title={'center':'Outcome'}>, <AxesSubplot:>,\n",
       "        <AxesSubplot:>]], dtype=object)"
      ]
     },
     "execution_count": 34,
     "metadata": {},
     "output_type": "execute_result"
    },
    {
     "data": {
      "image/png": "[encoded data removed]",
      "text/plain": [
       "<Figure size 1440x1440 with 12 Axes>"
      ]
     },
     "metadata": {
      "needs_background": "light"
     },
     "output_type": "display_data"
    }
   ],
   "source": [
    "data.hist(bins=30,figsize=[20,20])"
   ]
  },
  {
   "cell_type": "markdown",
   "id": "f6066367",
   "metadata": {},
   "source": [
    "From the range of values it is quite clear that data needs normalization."
   ]
  },
  {
   "cell_type": "markdown",
   "id": "9c9be9c3",
   "metadata": {},
   "source": [
    "## Feature correlations"
   ]
  },
  {
   "cell_type": "code",
   "execution_count": 35,
   "id": "228e639c",
   "metadata": {
    "ExecuteTime": {
     "end_time": "2022-02-13T05:07:13.077544Z",
     "start_time": "2022-02-13T05:07:12.434996Z"
    }
   },
   "outputs": [
    {
     "data": {
      "text/plain": [
       "<AxesSubplot:>"
      ]
     },
     "execution_count": 35,
     "metadata": {},
     "output_type": "execute_result"
    },
    {
     "data": {
      "image/png": "[encoded data removed]",
      "text/plain": [
       "<Figure size 720x576 with 2 Axes>"
      ]
     },
     "metadata": {
      "needs_background": "light"
     },
     "output_type": "display_data"
    }
   ],
   "source": [
    "plt.figure(figsize=[10,8])\n",
    "sns.heatmap(data= data.corr(),annot=True,linewidths=0.5,cmap='coolwarm',\n",
    "            annot_kws={\"fontsize\":14},fmt='0.2f')\n",
    "\n",
    "# plt.tight_layout()\n",
    "# plt.savefig(\"images/corr1.png\",facecolor='white', transparent=False)"
   ]
  },
  {
   "cell_type": "markdown",
   "id": "26164846",
   "metadata": {},
   "source": [
    "1. correlation between Total_Bilirubin and Direct_Bilirubin is high: 0.9. One of them can be removed.\n",
    "2. correlation between Alamine_Aminotransferase and Aspartate_Aminotransferase is high: 0.8.\n",
    "3. correlation between Total_Protiens and Albumin is high: 0.8.\n",
    "\n",
    "features to be dropped = Direct_Bilirubin,Aspartate_Aminotransferase,Albumin\n"
   ]
  },
  {
   "cell_type": "code",
   "execution_count": 36,
   "id": "adfcb9da",
   "metadata": {
    "ExecuteTime": {
     "end_time": "2022-02-13T05:07:14.558373Z",
     "start_time": "2022-02-13T05:07:14.555750Z"
    }
   },
   "outputs": [],
   "source": [
    "features_to_drop = ['Direct_Bilirubin','Aspartate_Aminotransferase','Albumin']\n"
   ]
  },
  {
   "cell_type": "code",
   "execution_count": 37,
   "id": "3e44f584",
   "metadata": {
    "ExecuteTime": {
     "end_time": "2022-02-13T05:07:16.277024Z",
     "start_time": "2022-02-13T05:07:16.269313Z"
    }
   },
   "outputs": [
    {
     "data": {
      "text/plain": [
       "Index(['Age', 'Gender', 'Total_Bilirubin', 'Alkaline_Phosphotase',\n",
       "       'Alamine_Aminotransferase', 'Total_Protiens',\n",
       "       'Albumin_and_Globulin_Ratio', 'Outcome'],\n",
       "      dtype='object')"
      ]
     },
     "execution_count": 37,
     "metadata": {},
     "output_type": "execute_result"
    }
   ],
   "source": [
    "data2 = data.copy()\n",
    "data2.drop(features_to_drop,axis=1,inplace=True)\n",
    "data2.columns"
   ]
  },
  {
   "cell_type": "code",
   "execution_count": 38,
   "id": "7c2499b3",
   "metadata": {
    "ExecuteTime": {
     "end_time": "2022-02-13T05:07:18.270906Z",
     "start_time": "2022-02-13T05:07:17.827343Z"
    }
   },
   "outputs": [
    {
     "data": {
      "text/plain": [
       "<AxesSubplot:>"
      ]
     },
     "execution_count": 38,
     "metadata": {},
     "output_type": "execute_result"
    },
    {
     "data": {
      "image/png": "[encoded data removed]",
      "text/plain": [
       "<Figure size 720x576 with 2 Axes>"
      ]
     },
     "metadata": {
      "needs_background": "light"
     },
     "output_type": "display_data"
    }
   ],
   "source": [
    "plt.figure(figsize=[10,8])\n",
    "sns.heatmap(data= data2.corr(),annot=True,linewidths=0.5,cmap='coolwarm',\n",
    "            annot_kws={\"fontsize\":14},fmt='0.2f')"
   ]
  },
  {
   "cell_type": "markdown",
   "id": "fb4666bd",
   "metadata": {},
   "source": [
    "no correlations present between features"
   ]
  },
  {
   "cell_type": "markdown",
   "id": "b108d649",
   "metadata": {},
   "source": [
    "## Fill the missing data"
   ]
  },
  {
   "cell_type": "code",
   "execution_count": 39,
   "id": "e5411807",
   "metadata": {
    "ExecuteTime": {
     "end_time": "2022-02-13T05:07:29.860480Z",
     "start_time": "2022-02-13T05:07:29.643143Z"
    }
   },
   "outputs": [
    {
     "data": {
      "text/plain": [
       "<AxesSubplot:>"
      ]
     },
     "execution_count": 39,
     "metadata": {},
     "output_type": "execute_result"
    },
    {
     "data": {
      "image/png": "[encoded data removed]",
      "text/plain": [
       "<Figure size 864x432 with 2 Axes>"
      ]
     },
     "metadata": {
      "needs_background": "light"
     },
     "output_type": "display_data"
    }
   ],
   "source": [
    "figure = plt.figure(figsize=(12,6))\n",
    "sns.heatmap(data2.isnull(),yticklabels=False)"
   ]
  },
  {
   "cell_type": "markdown",
   "id": "4d5c93c8",
   "metadata": {},
   "source": [
    "Fill the missing Albumin_and_Globulin_Ratio with mean values."
   ]
  },
  {
   "cell_type": "code",
   "execution_count": 40,
   "id": "70369a7f",
   "metadata": {
    "ExecuteTime": {
     "end_time": "2022-02-13T05:07:44.382889Z",
     "start_time": "2022-02-13T05:07:44.373475Z"
    }
   },
   "outputs": [
    {
     "data": {
      "text/html": [
       "<div>\n",
       "<style scoped>\n",
       "    .dataframe tbody tr th:only-of-type {\n",
       "        vertical-align: middle;\n",
       "    }\n",
       "\n",
       "    .dataframe tbody tr th {\n",
       "        vertical-align: top;\n",
       "    }\n",
       "\n",
       "    .dataframe thead th {\n",
       "        text-align: right;\n",
       "    }\n",
       "</style>\n",
       "<table border=\"1\" class=\"dataframe\">\n",
       "  <thead>\n",
       "    <tr style=\"text-align: right;\">\n",
       "      <th></th>\n",
       "      <th>Age</th>\n",
       "      <th>Gender</th>\n",
       "      <th>Total_Bilirubin</th>\n",
       "      <th>Alkaline_Phosphotase</th>\n",
       "      <th>Alamine_Aminotransferase</th>\n",
       "      <th>Total_Protiens</th>\n",
       "      <th>Albumin_and_Globulin_Ratio</th>\n",
       "      <th>Outcome</th>\n",
       "    </tr>\n",
       "  </thead>\n",
       "  <tbody>\n",
       "    <tr>\n",
       "      <th>209</th>\n",
       "      <td>45</td>\n",
       "      <td>Female</td>\n",
       "      <td>0.9</td>\n",
       "      <td>189</td>\n",
       "      <td>23</td>\n",
       "      <td>6.6</td>\n",
       "      <td>NaN</td>\n",
       "      <td>1</td>\n",
       "    </tr>\n",
       "    <tr>\n",
       "      <th>241</th>\n",
       "      <td>51</td>\n",
       "      <td>Male</td>\n",
       "      <td>0.8</td>\n",
       "      <td>230</td>\n",
       "      <td>24</td>\n",
       "      <td>6.5</td>\n",
       "      <td>NaN</td>\n",
       "      <td>1</td>\n",
       "    </tr>\n",
       "    <tr>\n",
       "      <th>253</th>\n",
       "      <td>35</td>\n",
       "      <td>Female</td>\n",
       "      <td>0.6</td>\n",
       "      <td>180</td>\n",
       "      <td>12</td>\n",
       "      <td>5.2</td>\n",
       "      <td>NaN</td>\n",
       "      <td>2</td>\n",
       "    </tr>\n",
       "    <tr>\n",
       "      <th>312</th>\n",
       "      <td>27</td>\n",
       "      <td>Male</td>\n",
       "      <td>1.3</td>\n",
       "      <td>106</td>\n",
       "      <td>25</td>\n",
       "      <td>8.5</td>\n",
       "      <td>NaN</td>\n",
       "      <td>2</td>\n",
       "    </tr>\n",
       "  </tbody>\n",
       "</table>\n",
       "</div>"
      ],
      "text/plain": [
       "     Age  Gender  Total_Bilirubin  Alkaline_Phosphotase  \\\n",
       "209   45  Female              0.9                   189   \n",
       "241   51    Male              0.8                   230   \n",
       "253   35  Female              0.6                   180   \n",
       "312   27    Male              1.3                   106   \n",
       "\n",
       "     Alamine_Aminotransferase  Total_Protiens  Albumin_and_Globulin_Ratio  \\\n",
       "209                        23             6.6                         NaN   \n",
       "241                        24             6.5                         NaN   \n",
       "253                        12             5.2                         NaN   \n",
       "312                        25             8.5                         NaN   \n",
       "\n",
       "     Outcome  \n",
       "209        1  \n",
       "241        1  \n",
       "253        2  \n",
       "312        2  "
      ]
     },
     "execution_count": 40,
     "metadata": {},
     "output_type": "execute_result"
    }
   ],
   "source": [
    "data2.loc[data2['Albumin_and_Globulin_Ratio'].isnull()]"
   ]
  },
  {
   "cell_type": "code",
   "execution_count": 41,
   "id": "73074c8b",
   "metadata": {
    "ExecuteTime": {
     "end_time": "2022-02-13T05:07:56.200909Z",
     "start_time": "2022-02-13T05:07:56.192227Z"
    },
    "scrolled": true
   },
   "outputs": [
    {
     "data": {
      "text/html": [
       "<div>\n",
       "<style scoped>\n",
       "    .dataframe tbody tr th:only-of-type {\n",
       "        vertical-align: middle;\n",
       "    }\n",
       "\n",
       "    .dataframe tbody tr th {\n",
       "        vertical-align: top;\n",
       "    }\n",
       "\n",
       "    .dataframe thead th {\n",
       "        text-align: right;\n",
       "    }\n",
       "</style>\n",
       "<table border=\"1\" class=\"dataframe\">\n",
       "  <thead>\n",
       "    <tr style=\"text-align: right;\">\n",
       "      <th></th>\n",
       "      <th>Albumin_and_Globulin_Ratio</th>\n",
       "    </tr>\n",
       "    <tr>\n",
       "      <th>Gender</th>\n",
       "      <th></th>\n",
       "    </tr>\n",
       "  </thead>\n",
       "  <tbody>\n",
       "    <tr>\n",
       "      <th>Female</th>\n",
       "      <td>0.949000</td>\n",
       "    </tr>\n",
       "    <tr>\n",
       "      <th>Male</th>\n",
       "      <td>0.946446</td>\n",
       "    </tr>\n",
       "  </tbody>\n",
       "</table>\n",
       "</div>"
      ],
      "text/plain": [
       "        Albumin_and_Globulin_Ratio\n",
       "Gender                            \n",
       "Female                    0.949000\n",
       "Male                      0.946446"
      ]
     },
     "execution_count": 41,
     "metadata": {},
     "output_type": "execute_result"
    }
   ],
   "source": [
    "# groupby Gender\n",
    "data2[['Albumin_and_Globulin_Ratio','Gender']].groupby('Gender').mean()"
   ]
  },
  {
   "cell_type": "code",
   "execution_count": 42,
   "id": "46f0cdaa",
   "metadata": {
    "ExecuteTime": {
     "end_time": "2022-02-13T05:08:34.940715Z",
     "start_time": "2022-02-13T05:08:34.927819Z"
    }
   },
   "outputs": [
    {
     "data": {
      "text/plain": [
       "{1: 0.9141787439613527, 2: 1.0295757575757576}"
      ]
     },
     "execution_count": 42,
     "metadata": {},
     "output_type": "execute_result"
    }
   ],
   "source": [
    "# groupby Outcome\n",
    "mean_ratio = data2[['Albumin_and_Globulin_Ratio','Outcome']].groupby('Outcome').mean()\n",
    "mean_ratio = mean_ratio['Albumin_and_Globulin_Ratio'].to_dict()\n",
    "mean_ratio"
   ]
  },
  {
   "cell_type": "markdown",
   "id": "ae769e24",
   "metadata": {},
   "source": [
    "Mean values based on Gender are almost same. However, meanvalues by outcome is slight different. Hence the missing values will be filled based on Outcome."
   ]
  },
  {
   "cell_type": "code",
   "execution_count": 43,
   "id": "9daa9b9f",
   "metadata": {
    "ExecuteTime": {
     "end_time": "2022-02-13T05:09:21.223984Z",
     "start_time": "2022-02-13T05:09:21.219957Z"
    }
   },
   "outputs": [
    {
     "data": {
      "text/plain": [
       "0.9141787439613527"
      ]
     },
     "execution_count": 43,
     "metadata": {},
     "output_type": "execute_result"
    }
   ],
   "source": [
    "mean_ratio[1]"
   ]
  },
  {
   "cell_type": "code",
   "execution_count": 44,
   "id": "45f9775c",
   "metadata": {
    "ExecuteTime": {
     "end_time": "2022-02-13T05:09:22.986086Z",
     "start_time": "2022-02-13T05:09:22.981036Z"
    }
   },
   "outputs": [],
   "source": [
    "data2.loc[(data2['Albumin_and_Globulin_Ratio'].isnull()) &\n",
    "          (data2['Outcome']==1),'Albumin_and_Globulin_Ratio'] = mean_ratio[1]\n",
    "data2.loc[(data2['Albumin_and_Globulin_Ratio'].isnull()) \n",
    "          & (data2['Outcome']==2),'Albumin_and_Globulin_Ratio'] = mean_ratio[2]"
   ]
  },
  {
   "cell_type": "code",
   "execution_count": 45,
   "id": "d160a94c",
   "metadata": {
    "ExecuteTime": {
     "end_time": "2022-02-13T05:09:26.277328Z",
     "start_time": "2022-02-13T05:09:26.053885Z"
    }
   },
   "outputs": [
    {
     "data": {
      "text/plain": [
       "<AxesSubplot:>"
      ]
     },
     "execution_count": 45,
     "metadata": {},
     "output_type": "execute_result"
    },
    {
     "data": {
      "image/png": "[encoded data removed]",
      "text/plain": [
       "<Figure size 864x432 with 2 Axes>"
      ]
     },
     "metadata": {
      "needs_background": "light"
     },
     "output_type": "display_data"
    }
   ],
   "source": [
    "figure = plt.figure(figsize=(12,6))\n",
    "sns.heatmap(data2.isnull(),yticklabels=False)"
   ]
  },
  {
   "cell_type": "code",
   "execution_count": 46,
   "id": "e7fc4fea",
   "metadata": {
    "ExecuteTime": {
     "end_time": "2022-02-13T05:10:03.238784Z",
     "start_time": "2022-02-13T05:10:03.233117Z"
    }
   },
   "outputs": [
    {
     "data": {
      "text/plain": [
       "0      0\n",
       "1      1\n",
       "2      1\n",
       "3      1\n",
       "4      1\n",
       "      ..\n",
       "578    1\n",
       "579    1\n",
       "580    1\n",
       "581    1\n",
       "582    1\n",
       "Name: Gender, Length: 583, dtype: int64"
      ]
     },
     "execution_count": 46,
     "metadata": {},
     "output_type": "execute_result"
    }
   ],
   "source": [
    "# make Gender values 0 and 1\n",
    "data2['Gender'] = np.where(data2['Gender']=='Female',0,1)\n",
    "data2['Gender']"
   ]
  },
  {
   "cell_type": "code",
   "execution_count": 47,
   "id": "c545de79",
   "metadata": {
    "ExecuteTime": {
     "end_time": "2022-02-13T05:10:15.090054Z",
     "start_time": "2022-02-13T05:10:15.083720Z"
    }
   },
   "outputs": [
    {
     "data": {
      "text/plain": [
       "1    416\n",
       "2    167\n",
       "Name: Outcome, dtype: int64"
      ]
     },
     "execution_count": 47,
     "metadata": {},
     "output_type": "execute_result"
    }
   ],
   "source": [
    "# change the output to int not float, without this LogisticRegression: Unknown label type: 'continuous' error will come.\n",
    "data2['Outcome']=data2['Outcome'].astype('int')\n",
    "data2['Outcome'].value_counts()"
   ]
  },
  {
   "cell_type": "markdown",
   "id": "420c4b78",
   "metadata": {},
   "source": [
    "# Model performance"
   ]
  },
  {
   "cell_type": "code",
   "execution_count": 48,
   "id": "096b4f65",
   "metadata": {
    "ExecuteTime": {
     "end_time": "2022-02-13T05:10:17.904094Z",
     "start_time": "2022-02-13T05:10:17.895680Z"
    }
   },
   "outputs": [
    {
     "name": "stdout",
     "output_type": "stream",
     "text": [
      "   Age  Gender  Total_Bilirubin  Alkaline_Phosphotase  \\\n",
      "0   65       0              0.7                   187   \n",
      "1   62       1             10.9                   699   \n",
      "2   62       1              7.3                   490   \n",
      "3   58       1              1.0                   182   \n",
      "4   72       1              3.9                   195   \n",
      "\n",
      "   Alamine_Aminotransferase  Total_Protiens  Albumin_and_Globulin_Ratio  \n",
      "0                        16             6.8                        0.90  \n",
      "1                        64             7.5                        0.74  \n",
      "2                        60             7.0                        0.89  \n",
      "3                        14             6.8                        1.00  \n",
      "4                        27             7.3                        0.40   \n",
      "\n",
      "\n",
      "0      1\n",
      "1      1\n",
      "2      1\n",
      "3      1\n",
      "4      1\n",
      "      ..\n",
      "578    2\n",
      "579    1\n",
      "580    1\n",
      "581    1\n",
      "582    2\n",
      "Name: Outcome, Length: 583, dtype: int64\n"
     ]
    }
   ],
   "source": [
    "y = data2['Outcome']\n",
    "x = data2.drop('Outcome',axis=1)\n",
    "print(x.head(5),'\\n\\n')\n",
    "print(y)"
   ]
  },
  {
   "cell_type": "code",
   "execution_count": 49,
   "id": "c62ea600",
   "metadata": {
    "ExecuteTime": {
     "end_time": "2022-02-13T05:10:21.811486Z",
     "start_time": "2022-02-13T05:10:21.805429Z"
    }
   },
   "outputs": [],
   "source": [
    "x_train,x_test,y_train,y_test = train_test_split(x,y,random_state=1234,\n",
    "                                                 test_size=0.3)"
   ]
  },
  {
   "cell_type": "code",
   "execution_count": 50,
   "id": "cd949743",
   "metadata": {
    "ExecuteTime": {
     "end_time": "2022-02-13T05:10:24.885984Z",
     "start_time": "2022-02-13T05:10:24.881436Z"
    }
   },
   "outputs": [
    {
     "name": "stdout",
     "output_type": "stream",
     "text": [
      "(408, 7) (175, 7) (408,) (175,)\n"
     ]
    }
   ],
   "source": [
    "print(x_train.shape,x_test.shape,y_train.shape,y_test.shape)"
   ]
  },
  {
   "cell_type": "markdown",
   "id": "a9b00914",
   "metadata": {},
   "source": [
    "## models"
   ]
  },
  {
   "cell_type": "code",
   "execution_count": 51,
   "id": "a979aa64",
   "metadata": {
    "ExecuteTime": {
     "end_time": "2022-02-13T05:10:30.100754Z",
     "start_time": "2022-02-13T05:10:30.087473Z"
    }
   },
   "outputs": [
    {
     "data": {
      "text/plain": [
       "[('LR',\n",
       "  LogisticRegression(max_iter=500, random_state=1234, solver='liblinear')),\n",
       " ('KNN', KNeighborsClassifier()),\n",
       " ('CART', DecisionTreeClassifier(random_state=1234)),\n",
       " ('RF', RandomForestClassifier(random_state=1234)),\n",
       " ('SVM', SVC(gamma='auto', random_state=1234)),\n",
       " ('XGB', GradientBoostingClassifier(random_state=1234)),\n",
       " ('LightGBM', LGBMClassifier(random_state=1234))]"
      ]
     },
     "execution_count": 51,
     "metadata": {},
     "output_type": "execute_result"
    }
   ],
   "source": [
    "models = []\n",
    "random_state = 1234\n",
    "models.append(('LR', LogisticRegression(random_state = random_state,\n",
    "                                        solver='liblinear',max_iter=500)))\n",
    "models.append(('KNN', KNeighborsClassifier()))\n",
    "models.append(('CART', DecisionTreeClassifier(random_state = random_state)))\n",
    "models.append(('RF', RandomForestClassifier(random_state = random_state)))\n",
    "models.append(('SVM', SVC(gamma='auto', random_state = random_state)))\n",
    "models.append(('XGB', GradientBoostingClassifier(random_state = random_state)))\n",
    "models.append((\"LightGBM\", LGBMClassifier(random_state = random_state)))\n",
    "models"
   ]
  },
  {
   "cell_type": "code",
   "execution_count": 52,
   "id": "90e2b64d",
   "metadata": {
    "ExecuteTime": {
     "end_time": "2022-02-13T05:10:37.426553Z",
     "start_time": "2022-02-13T05:10:33.410543Z"
    },
    "scrolled": false
   },
   "outputs": [
    {
     "name": "stdout",
     "output_type": "stream",
     "text": [
      "name : LR\n",
      "model : LogisticRegression(max_iter=500, random_state=1234, solver='liblinear')\n",
      "[0.71186441 0.69491525 0.74576271 0.75862069 0.68965517 0.74137931\n",
      " 0.74137931 0.68965517 0.74137931 0.75862069] \n",
      "\n",
      "LR: 0.727323 (0.026493)\n",
      "name : KNN\n",
      "model : KNeighborsClassifier()\n",
      "[0.76271186 0.69491525 0.69491525 0.68965517 0.68965517 0.67241379\n",
      " 0.5862069  0.53448276 0.72413793 0.68965517] \n",
      "\n",
      "KNN: 0.673875 (0.062585)\n",
      "name : CART\n",
      "model : DecisionTreeClassifier(random_state=1234)\n",
      "[0.69491525 0.59322034 0.74576271 0.68965517 0.51724138 0.67241379\n",
      " 0.67241379 0.44827586 0.70689655 0.72413793] \n",
      "\n",
      "CART: 0.646493 (0.091606)\n",
      "name : RF\n",
      "model : RandomForestClassifier(random_state=1234)\n",
      "[0.71186441 0.62711864 0.6779661  0.75862069 0.70689655 0.68965517\n",
      " 0.65517241 0.51724138 0.68965517 0.74137931] \n",
      "\n",
      "RF: 0.677557 (0.064592)\n",
      "name : SVM\n",
      "model : SVC(gamma='auto', random_state=1234)\n",
      "[0.71186441 0.71186441 0.71186441 0.70689655 0.72413793 0.72413793\n",
      " 0.68965517 0.70689655 0.70689655 0.70689655] \n",
      "\n",
      "SVM: 0.710111 (0.009287)\n",
      "name : XGB\n",
      "model : GradientBoostingClassifier(random_state=1234)\n",
      "[0.71186441 0.72881356 0.72881356 0.75862069 0.70689655 0.72413793\n",
      " 0.67241379 0.5862069  0.74137931 0.67241379] \n",
      "\n",
      "XGB: 0.703156 (0.046852)\n",
      "name : LightGBM\n",
      "model : LGBMClassifier(random_state=1234)\n",
      "[0.66101695 0.72881356 0.6440678  0.75862069 0.68965517 0.65517241\n",
      " 0.63793103 0.60344828 0.77586207 0.75862069] \n",
      "\n",
      "LightGBM: 0.691321 (0.057135)\n"
     ]
    }
   ],
   "source": [
    "results = []\n",
    "names   = []\n",
    "\n",
    "for name, model in models:\n",
    "    print(\"name :\",name)\n",
    "    print(\"model :\",model)       \n",
    "    cv_results = cross_val_score(model, x, y, cv = 10, scoring= \"accuracy\")\n",
    "    print(cv_results,\"\\n\")\n",
    "    results.append(cv_results)\n",
    "    names.append(name)\n",
    "    msg = \"%s: %f (%f)\" % (name, cv_results.mean(), cv_results.std())\n",
    "    print(msg)"
   ]
  },
  {
   "cell_type": "code",
   "execution_count": 53,
   "id": "6d5d990b",
   "metadata": {
    "ExecuteTime": {
     "end_time": "2022-02-13T05:10:44.610274Z",
     "start_time": "2022-02-13T05:10:44.397683Z"
    }
   },
   "outputs": [
    {
     "data": {
      "text/plain": [
       "<AxesSubplot:>"
      ]
     },
     "execution_count": 53,
     "metadata": {},
     "output_type": "execute_result"
    },
    {
     "data": {
      "image/png": "[encoded data removed]",
      "text/plain": [
       "<Figure size 864x576 with 1 Axes>"
      ]
     },
     "metadata": {
      "needs_background": "light"
     },
     "output_type": "display_data"
    }
   ],
   "source": [
    "results_df = pd.DataFrame(np.array(results).transpose(),columns=names)\n",
    "plt.figure(figsize=[12,8])\n",
    "sns.boxplot(data=results_df)\n",
    "\n",
    "# plt.tight_layout()\n",
    "# plt.savefig(\"images/model_before_scaling.png\",facecolor='white', transparent=False)"
   ]
  },
  {
   "cell_type": "markdown",
   "id": "ca9a0081",
   "metadata": {},
   "source": [
    "## scaled models\n",
    "\n",
    "Scale the data to check model performance."
   ]
  },
  {
   "cell_type": "code",
   "execution_count": 54,
   "id": "ef44e823",
   "metadata": {
    "ExecuteTime": {
     "end_time": "2022-02-13T05:11:41.428528Z",
     "start_time": "2022-02-13T05:11:41.425540Z"
    }
   },
   "outputs": [],
   "source": [
    "from sklearn.preprocessing import RobustScaler"
   ]
  },
  {
   "cell_type": "code",
   "execution_count": 55,
   "id": "14a86e8c",
   "metadata": {
    "ExecuteTime": {
     "end_time": "2022-02-13T05:11:44.911812Z",
     "start_time": "2022-02-13T05:11:44.893382Z"
    }
   },
   "outputs": [
    {
     "data": {
      "text/html": [
       "<div>\n",
       "<style scoped>\n",
       "    .dataframe tbody tr th:only-of-type {\n",
       "        vertical-align: middle;\n",
       "    }\n",
       "\n",
       "    .dataframe tbody tr th {\n",
       "        vertical-align: top;\n",
       "    }\n",
       "\n",
       "    .dataframe thead th {\n",
       "        text-align: right;\n",
       "    }\n",
       "</style>\n",
       "<table border=\"1\" class=\"dataframe\">\n",
       "  <thead>\n",
       "    <tr style=\"text-align: right;\">\n",
       "      <th></th>\n",
       "      <th>Age</th>\n",
       "      <th>Gender</th>\n",
       "      <th>Total_Bilirubin</th>\n",
       "      <th>Alkaline_Phosphotase</th>\n",
       "      <th>Alamine_Aminotransferase</th>\n",
       "      <th>Total_Protiens</th>\n",
       "      <th>Albumin_and_Globulin_Ratio</th>\n",
       "    </tr>\n",
       "  </thead>\n",
       "  <tbody>\n",
       "    <tr>\n",
       "      <th>0</th>\n",
       "      <td>0.80</td>\n",
       "      <td>-1.0</td>\n",
       "      <td>-0.166667</td>\n",
       "      <td>-0.171429</td>\n",
       "      <td>-0.506667</td>\n",
       "      <td>0.142857</td>\n",
       "      <td>-0.075</td>\n",
       "    </tr>\n",
       "    <tr>\n",
       "      <th>1</th>\n",
       "      <td>0.68</td>\n",
       "      <td>0.0</td>\n",
       "      <td>5.500000</td>\n",
       "      <td>4.008163</td>\n",
       "      <td>0.773333</td>\n",
       "      <td>0.642857</td>\n",
       "      <td>-0.475</td>\n",
       "    </tr>\n",
       "    <tr>\n",
       "      <th>2</th>\n",
       "      <td>0.68</td>\n",
       "      <td>0.0</td>\n",
       "      <td>3.500000</td>\n",
       "      <td>2.302041</td>\n",
       "      <td>0.666667</td>\n",
       "      <td>0.285714</td>\n",
       "      <td>-0.100</td>\n",
       "    </tr>\n",
       "    <tr>\n",
       "      <th>3</th>\n",
       "      <td>0.52</td>\n",
       "      <td>0.0</td>\n",
       "      <td>0.000000</td>\n",
       "      <td>-0.212245</td>\n",
       "      <td>-0.560000</td>\n",
       "      <td>0.142857</td>\n",
       "      <td>0.175</td>\n",
       "    </tr>\n",
       "    <tr>\n",
       "      <th>4</th>\n",
       "      <td>1.08</td>\n",
       "      <td>0.0</td>\n",
       "      <td>1.611111</td>\n",
       "      <td>-0.106122</td>\n",
       "      <td>-0.213333</td>\n",
       "      <td>0.500000</td>\n",
       "      <td>-1.325</td>\n",
       "    </tr>\n",
       "  </tbody>\n",
       "</table>\n",
       "</div>"
      ],
      "text/plain": [
       "    Age  Gender  Total_Bilirubin  Alkaline_Phosphotase  \\\n",
       "0  0.80    -1.0        -0.166667             -0.171429   \n",
       "1  0.68     0.0         5.500000              4.008163   \n",
       "2  0.68     0.0         3.500000              2.302041   \n",
       "3  0.52     0.0         0.000000             -0.212245   \n",
       "4  1.08     0.0         1.611111             -0.106122   \n",
       "\n",
       "   Alamine_Aminotransferase  Total_Protiens  Albumin_and_Globulin_Ratio  \n",
       "0                 -0.506667        0.142857                      -0.075  \n",
       "1                  0.773333        0.642857                      -0.475  \n",
       "2                  0.666667        0.285714                      -0.100  \n",
       "3                 -0.560000        0.142857                       0.175  \n",
       "4                 -0.213333        0.500000                      -1.325  "
      ]
     },
     "execution_count": 55,
     "metadata": {},
     "output_type": "execute_result"
    }
   ],
   "source": [
    "scaler = RobustScaler()\n",
    "xs = scaler.fit_transform(x)\n",
    "xs = pd.DataFrame(xs,columns=x.columns)\n",
    "xs.head(5)"
   ]
  },
  {
   "cell_type": "code",
   "execution_count": 56,
   "id": "53abc30b",
   "metadata": {
    "ExecuteTime": {
     "end_time": "2022-02-13T05:11:49.742018Z",
     "start_time": "2022-02-13T05:11:48.821233Z"
    }
   },
   "outputs": [
    {
     "data": {
      "text/plain": [
       "array([[<AxesSubplot:title={'center':'Age'}>,\n",
       "        <AxesSubplot:title={'center':'Gender'}>,\n",
       "        <AxesSubplot:title={'center':'Total_Bilirubin'}>],\n",
       "       [<AxesSubplot:title={'center':'Alkaline_Phosphotase'}>,\n",
       "        <AxesSubplot:title={'center':'Alamine_Aminotransferase'}>,\n",
       "        <AxesSubplot:title={'center':'Total_Protiens'}>],\n",
       "       [<AxesSubplot:title={'center':'Albumin_and_Globulin_Ratio'}>,\n",
       "        <AxesSubplot:>, <AxesSubplot:>]], dtype=object)"
      ]
     },
     "execution_count": 56,
     "metadata": {},
     "output_type": "execute_result"
    },
    {
     "data": {
      "image/png": "[encoded data removed]",
      "text/plain": [
       "<Figure size 720x720 with 9 Axes>"
      ]
     },
     "metadata": {
      "needs_background": "light"
     },
     "output_type": "display_data"
    }
   ],
   "source": [
    "xs.hist(bins=30,figsize=[10,10])"
   ]
  },
  {
   "cell_type": "code",
   "execution_count": 57,
   "id": "7b5b9e54",
   "metadata": {
    "ExecuteTime": {
     "end_time": "2022-02-13T05:11:56.895174Z",
     "start_time": "2022-02-13T05:11:56.890785Z"
    }
   },
   "outputs": [],
   "source": [
    "def create_model_list():\n",
    "    list_name = []\n",
    "    random_state = 1234\n",
    "    list_name.append(('LR', LogisticRegression(random_state = random_state,solver='liblinear',max_iter=500)))\n",
    "    list_name.append(('KNN', KNeighborsClassifier()))\n",
    "    list_name.append(('CART', DecisionTreeClassifier(random_state = random_state)))\n",
    "    list_name.append(('RF', RandomForestClassifier(random_state = random_state)))\n",
    "    list_name.append(('SVM', SVC(gamma='auto', random_state = random_state)))\n",
    "    list_name.append(('XGB', GradientBoostingClassifier(random_state = random_state)))\n",
    "    list_name.append((\"LightGBM\", LGBMClassifier(random_state = random_state)))\n",
    "    return list_name"
   ]
  },
  {
   "cell_type": "code",
   "execution_count": 58,
   "id": "da234383",
   "metadata": {
    "ExecuteTime": {
     "end_time": "2022-02-13T05:12:00.712128Z",
     "start_time": "2022-02-13T05:12:00.709394Z"
    }
   },
   "outputs": [],
   "source": [
    "scaled_models = create_model_list()"
   ]
  },
  {
   "cell_type": "code",
   "execution_count": 59,
   "id": "4b40c100",
   "metadata": {
    "ExecuteTime": {
     "end_time": "2022-02-13T05:12:09.091596Z",
     "start_time": "2022-02-13T05:12:04.751208Z"
    }
   },
   "outputs": [
    {
     "name": "stdout",
     "output_type": "stream",
     "text": [
      "name : LR\n",
      "model : LogisticRegression(max_iter=500, random_state=1234, solver='liblinear')\n",
      "[0.71186441 0.71186441 0.74576271 0.70689655 0.70689655 0.74137931\n",
      " 0.74137931 0.70689655 0.74137931 0.75862069] \n",
      "\n",
      "LR: 0.727294 (0.019084)\n",
      "name : KNN\n",
      "model : KNeighborsClassifier()\n",
      "[0.71186441 0.6440678  0.71186441 0.72413793 0.74137931 0.65517241\n",
      " 0.63793103 0.63793103 0.63793103 0.72413793] \n",
      "\n",
      "KNN: 0.682642 (0.041038)\n",
      "name : CART\n",
      "model : DecisionTreeClassifier(random_state=1234)\n",
      "[0.71186441 0.61016949 0.74576271 0.70689655 0.51724138 0.67241379\n",
      " 0.67241379 0.46551724 0.70689655 0.72413793] \n",
      "\n",
      "CART: 0.653331 (0.088942)\n",
      "name : RF\n",
      "model : RandomForestClassifier(random_state=1234)\n",
      "[0.69491525 0.66101695 0.6779661  0.75862069 0.70689655 0.68965517\n",
      " 0.65517241 0.53448276 0.68965517 0.75862069] \n",
      "\n",
      "RF: 0.682700 (0.059647)\n",
      "name : SVM\n",
      "model : SVC(gamma='auto', random_state=1234)\n",
      "[0.71186441 0.69491525 0.71186441 0.72413793 0.72413793 0.72413793\n",
      " 0.70689655 0.70689655 0.70689655 0.70689655] \n",
      "\n",
      "SVM: 0.711864 (0.009154)\n",
      "name : XGB\n",
      "model : GradientBoostingClassifier(random_state=1234)\n",
      "[0.71186441 0.72881356 0.72881356 0.75862069 0.72413793 0.72413793\n",
      " 0.67241379 0.5862069  0.74137931 0.67241379] \n",
      "\n",
      "XGB: 0.704880 (0.047273)\n",
      "name : LightGBM\n",
      "model : LGBMClassifier(random_state=1234)\n",
      "[0.66101695 0.69491525 0.6440678  0.77586207 0.70689655 0.68965517\n",
      " 0.67241379 0.62068966 0.75862069 0.72413793] \n",
      "\n",
      "LightGBM: 0.694828 (0.046245)\n"
     ]
    }
   ],
   "source": [
    "scaled_results = []\n",
    "scaled_names   = []\n",
    "\n",
    "for name, model in scaled_models:\n",
    "    print(\"name :\",name)\n",
    "    print(\"model :\",model)       \n",
    "    cv_results = cross_val_score(model, xs, y, cv = 10, scoring= \"accuracy\")\n",
    "    print(cv_results,\"\\n\")\n",
    "    scaled_results.append(cv_results)\n",
    "    scaled_names.append(name)\n",
    "    msg = \"%s: %f (%f)\" % (name, cv_results.mean(), cv_results.std())\n",
    "    print(msg)"
   ]
  },
  {
   "cell_type": "code",
   "execution_count": 60,
   "id": "15b661c8",
   "metadata": {
    "ExecuteTime": {
     "end_time": "2022-02-13T05:12:13.181662Z",
     "start_time": "2022-02-13T05:12:13.178488Z"
    }
   },
   "outputs": [],
   "source": [
    "scaled_results_df = pd.DataFrame(np.array(scaled_results).transpose(),columns=scaled_names)"
   ]
  },
  {
   "cell_type": "code",
   "execution_count": 61,
   "id": "53a129c8",
   "metadata": {
    "ExecuteTime": {
     "end_time": "2022-02-13T05:12:18.185821Z",
     "start_time": "2022-02-13T05:12:17.979060Z"
    }
   },
   "outputs": [
    {
     "data": {
      "text/plain": [
       "<AxesSubplot:>"
      ]
     },
     "execution_count": 61,
     "metadata": {},
     "output_type": "execute_result"
    },
    {
     "data": {
      "image/png": "[encoded data removed]",
      "text/plain": [
       "<Figure size 864x576 with 1 Axes>"
      ]
     },
     "metadata": {
      "needs_background": "light"
     },
     "output_type": "display_data"
    }
   ],
   "source": [
    "plt.figure(figsize=[12,8])\n",
    "sns.boxplot(data=scaled_results_df)"
   ]
  },
  {
   "cell_type": "markdown",
   "id": "d6158e38",
   "metadata": {},
   "source": [
    "## comparison of models before and after scaling data"
   ]
  },
  {
   "cell_type": "code",
   "execution_count": 62,
   "id": "6b7fe11a",
   "metadata": {
    "ExecuteTime": {
     "end_time": "2022-02-13T05:12:28.232860Z",
     "start_time": "2022-02-13T05:12:28.220904Z"
    }
   },
   "outputs": [
    {
     "name": "stdout",
     "output_type": "stream",
     "text": [
      "results before scaling : \n",
      "          LR       KNN      CART        RF       SVM       XGB  LightGBM\n",
      "0  0.711864  0.762712  0.694915  0.711864  0.711864  0.711864  0.661017\n",
      "1  0.694915  0.694915  0.593220  0.627119  0.711864  0.728814  0.728814\n",
      "2  0.745763  0.694915  0.745763  0.677966  0.711864  0.728814  0.644068\n",
      "3  0.758621  0.689655  0.689655  0.758621  0.706897  0.758621  0.758621\n",
      "4  0.689655  0.689655  0.517241  0.706897  0.724138  0.706897  0.689655\n",
      "results after scaling  : \n",
      "          LR       KNN      CART        RF       SVM       XGB  LightGBM\n",
      "0  0.711864  0.711864  0.711864  0.694915  0.711864  0.711864  0.661017\n",
      "1  0.711864  0.644068  0.610169  0.661017  0.694915  0.728814  0.694915\n",
      "2  0.745763  0.711864  0.745763  0.677966  0.711864  0.728814  0.644068\n",
      "3  0.706897  0.724138  0.706897  0.758621  0.724138  0.758621  0.775862\n",
      "4  0.706897  0.741379  0.517241  0.706897  0.724138  0.724138  0.706897\n"
     ]
    }
   ],
   "source": [
    "print('results before scaling : \\n',results_df.head(5))\n",
    "print('results after scaling  : \\n',scaled_results_df.head(5))"
   ]
  },
  {
   "cell_type": "code",
   "execution_count": 63,
   "id": "7e7c71d4",
   "metadata": {
    "ExecuteTime": {
     "end_time": "2022-02-13T05:12:32.707671Z",
     "start_time": "2022-02-13T05:12:32.698375Z"
    }
   },
   "outputs": [
    {
     "data": {
      "text/html": [
       "<div>\n",
       "<style scoped>\n",
       "    .dataframe tbody tr th:only-of-type {\n",
       "        vertical-align: middle;\n",
       "    }\n",
       "\n",
       "    .dataframe tbody tr th {\n",
       "        vertical-align: top;\n",
       "    }\n",
       "\n",
       "    .dataframe thead th {\n",
       "        text-align: right;\n",
       "    }\n",
       "</style>\n",
       "<table border=\"1\" class=\"dataframe\">\n",
       "  <thead>\n",
       "    <tr style=\"text-align: right;\">\n",
       "      <th></th>\n",
       "      <th>variable</th>\n",
       "      <th>value</th>\n",
       "      <th>scaled</th>\n",
       "    </tr>\n",
       "  </thead>\n",
       "  <tbody>\n",
       "    <tr>\n",
       "      <th>0</th>\n",
       "      <td>LR</td>\n",
       "      <td>0.711864</td>\n",
       "      <td>NO</td>\n",
       "    </tr>\n",
       "    <tr>\n",
       "      <th>1</th>\n",
       "      <td>LR</td>\n",
       "      <td>0.694915</td>\n",
       "      <td>NO</td>\n",
       "    </tr>\n",
       "    <tr>\n",
       "      <th>2</th>\n",
       "      <td>LR</td>\n",
       "      <td>0.745763</td>\n",
       "      <td>NO</td>\n",
       "    </tr>\n",
       "  </tbody>\n",
       "</table>\n",
       "</div>"
      ],
      "text/plain": [
       "  variable     value scaled\n",
       "0       LR  0.711864     NO\n",
       "1       LR  0.694915     NO\n",
       "2       LR  0.745763     NO"
      ]
     },
     "execution_count": 63,
     "metadata": {},
     "output_type": "execute_result"
    }
   ],
   "source": [
    "results_df_melt = pd.melt(results_df)\n",
    "results_df_melt['scaled']='NO'\n",
    "results_df_melt.head(3)"
   ]
  },
  {
   "cell_type": "code",
   "execution_count": 64,
   "id": "d26895b8",
   "metadata": {
    "ExecuteTime": {
     "end_time": "2022-02-13T05:12:37.817623Z",
     "start_time": "2022-02-13T05:12:37.807254Z"
    }
   },
   "outputs": [
    {
     "data": {
      "text/html": [
       "<div>\n",
       "<style scoped>\n",
       "    .dataframe tbody tr th:only-of-type {\n",
       "        vertical-align: middle;\n",
       "    }\n",
       "\n",
       "    .dataframe tbody tr th {\n",
       "        vertical-align: top;\n",
       "    }\n",
       "\n",
       "    .dataframe thead th {\n",
       "        text-align: right;\n",
       "    }\n",
       "</style>\n",
       "<table border=\"1\" class=\"dataframe\">\n",
       "  <thead>\n",
       "    <tr style=\"text-align: right;\">\n",
       "      <th></th>\n",
       "      <th>variable</th>\n",
       "      <th>value</th>\n",
       "      <th>scaled</th>\n",
       "    </tr>\n",
       "  </thead>\n",
       "  <tbody>\n",
       "    <tr>\n",
       "      <th>0</th>\n",
       "      <td>LR</td>\n",
       "      <td>0.711864</td>\n",
       "      <td>Yes</td>\n",
       "    </tr>\n",
       "    <tr>\n",
       "      <th>1</th>\n",
       "      <td>LR</td>\n",
       "      <td>0.711864</td>\n",
       "      <td>Yes</td>\n",
       "    </tr>\n",
       "    <tr>\n",
       "      <th>2</th>\n",
       "      <td>LR</td>\n",
       "      <td>0.745763</td>\n",
       "      <td>Yes</td>\n",
       "    </tr>\n",
       "  </tbody>\n",
       "</table>\n",
       "</div>"
      ],
      "text/plain": [
       "  variable     value scaled\n",
       "0       LR  0.711864    Yes\n",
       "1       LR  0.711864    Yes\n",
       "2       LR  0.745763    Yes"
      ]
     },
     "execution_count": 64,
     "metadata": {},
     "output_type": "execute_result"
    }
   ],
   "source": [
    "scaled_results_df_melt = pd.melt(scaled_results_df)\n",
    "scaled_results_df_melt['scaled']='Yes'\n",
    "scaled_results_df_melt.head(3)"
   ]
  },
  {
   "cell_type": "code",
   "execution_count": 65,
   "id": "f37cb38b",
   "metadata": {
    "ExecuteTime": {
     "end_time": "2022-02-13T05:12:42.802915Z",
     "start_time": "2022-02-13T05:12:42.795182Z"
    }
   },
   "outputs": [
    {
     "data": {
      "text/html": [
       "<div>\n",
       "<style scoped>\n",
       "    .dataframe tbody tr th:only-of-type {\n",
       "        vertical-align: middle;\n",
       "    }\n",
       "\n",
       "    .dataframe tbody tr th {\n",
       "        vertical-align: top;\n",
       "    }\n",
       "\n",
       "    .dataframe thead th {\n",
       "        text-align: right;\n",
       "    }\n",
       "</style>\n",
       "<table border=\"1\" class=\"dataframe\">\n",
       "  <thead>\n",
       "    <tr style=\"text-align: right;\">\n",
       "      <th></th>\n",
       "      <th>variable</th>\n",
       "      <th>value</th>\n",
       "      <th>scaled</th>\n",
       "    </tr>\n",
       "  </thead>\n",
       "  <tbody>\n",
       "    <tr>\n",
       "      <th>0</th>\n",
       "      <td>LR</td>\n",
       "      <td>0.711864</td>\n",
       "      <td>NO</td>\n",
       "    </tr>\n",
       "    <tr>\n",
       "      <th>1</th>\n",
       "      <td>LR</td>\n",
       "      <td>0.694915</td>\n",
       "      <td>NO</td>\n",
       "    </tr>\n",
       "    <tr>\n",
       "      <th>2</th>\n",
       "      <td>LR</td>\n",
       "      <td>0.745763</td>\n",
       "      <td>NO</td>\n",
       "    </tr>\n",
       "    <tr>\n",
       "      <th>3</th>\n",
       "      <td>LR</td>\n",
       "      <td>0.758621</td>\n",
       "      <td>NO</td>\n",
       "    </tr>\n",
       "    <tr>\n",
       "      <th>4</th>\n",
       "      <td>LR</td>\n",
       "      <td>0.689655</td>\n",
       "      <td>NO</td>\n",
       "    </tr>\n",
       "  </tbody>\n",
       "</table>\n",
       "</div>"
      ],
      "text/plain": [
       "  variable     value scaled\n",
       "0       LR  0.711864     NO\n",
       "1       LR  0.694915     NO\n",
       "2       LR  0.745763     NO\n",
       "3       LR  0.758621     NO\n",
       "4       LR  0.689655     NO"
      ]
     },
     "execution_count": 65,
     "metadata": {},
     "output_type": "execute_result"
    }
   ],
   "source": [
    "combined_results_df = pd.concat([results_df_melt,scaled_results_df_melt])\n",
    "combined_results_df.head(5)"
   ]
  },
  {
   "cell_type": "code",
   "execution_count": 66,
   "id": "c72f8fca",
   "metadata": {
    "ExecuteTime": {
     "end_time": "2022-02-13T05:12:48.239979Z",
     "start_time": "2022-02-13T05:12:47.788845Z"
    }
   },
   "outputs": [
    {
     "data": {
      "text/plain": [
       "<AxesSubplot:xlabel='variable', ylabel='value'>"
      ]
     },
     "execution_count": 66,
     "metadata": {},
     "output_type": "execute_result"
    },
    {
     "data": {
      "image/png": "[encoded data removed]",
      "text/plain": [
       "<Figure size 864x576 with 1 Axes>"
      ]
     },
     "metadata": {
      "needs_background": "light"
     },
     "output_type": "display_data"
    }
   ],
   "source": [
    "plt.figure(figsize=[12,8])\n",
    "sns.boxplot(data=combined_results_df, x='variable',y='value',hue='scaled')\n",
    "\n",
    "# plt.rc('font',size=15)\n",
    "# plt.tight_layout()\n",
    "# plt.xlabel('models')\n",
    "# plt.savefig(\"images/model_comparison.png\",facecolor='white', transparent=False,dpi=150)\n",
    "# plt.show()"
   ]
  },
  {
   "cell_type": "markdown",
   "id": "b0202761",
   "metadata": {},
   "source": [
    "# Feature importance"
   ]
  },
  {
   "cell_type": "markdown",
   "id": "7449b31b",
   "metadata": {},
   "source": [
    "from the results it looks like the performance of Logistic Regression is best for this dataset.\n",
    "Let's find the feature importance for this."
   ]
  },
  {
   "cell_type": "code",
   "execution_count": 67,
   "id": "acc16092",
   "metadata": {
    "ExecuteTime": {
     "end_time": "2022-02-13T05:16:45.383726Z",
     "start_time": "2022-02-13T05:16:45.366675Z"
    }
   },
   "outputs": [],
   "source": [
    "xs_train,xs_test,ys_train,ys_test = train_test_split(xs,y,\n",
    "                                                 random_state=1234,\n",
    "                                                 test_size=0.3)"
   ]
  },
  {
   "cell_type": "code",
   "execution_count": 68,
   "id": "05cd94a8",
   "metadata": {
    "ExecuteTime": {
     "end_time": "2022-02-13T05:17:31.819308Z",
     "start_time": "2022-02-13T05:17:31.806443Z"
    }
   },
   "outputs": [
    {
     "data": {
      "text/plain": [
       "LogisticRegression(max_iter=1000, random_state=1234, solver='liblinear')"
      ]
     },
     "execution_count": 68,
     "metadata": {},
     "output_type": "execute_result"
    }
   ],
   "source": [
    "lr_model = LogisticRegression(random_state = random_state,\n",
    "                   solver='liblinear',max_iter=1000)\n",
    "lr_model.fit(xs_train,ys_train)"
   ]
  },
  {
   "cell_type": "code",
   "execution_count": 70,
   "id": "66660eb5",
   "metadata": {
    "ExecuteTime": {
     "end_time": "2022-02-13T05:18:01.185974Z",
     "start_time": "2022-02-13T05:18:00.693632Z"
    }
   },
   "outputs": [
    {
     "data": {
      "text/plain": [
       "<AxesSubplot:xlabel='importance', ylabel='features'>"
      ]
     },
     "execution_count": 70,
     "metadata": {},
     "output_type": "execute_result"
    },
    {
     "data": {
      "image/png": "[encoded data removed]",
      "text/plain": [
       "<Figure size 432x288 with 1 Axes>"
      ]
     },
     "metadata": {
      "needs_background": "light"
     },
     "output_type": "display_data"
    }
   ],
   "source": [
    "feature_importance_df = pd.DataFrame()\n",
    "feature_importance_df['features'] = xs.columns\n",
    "feature_importance_df['importance'] = np.abs(lr_model.coef_[0])\n",
    "feature_importance_df.sort_values('importance',ascending=False,inplace=True)\n",
    "sns.barplot(x='importance',y='features',data=feature_importance_df)"
   ]
  },
  {
   "cell_type": "markdown",
   "id": "ce60c967",
   "metadata": {},
   "source": [
    "# Conclusion\n",
    "- Scaling data has limited influence to the model performance for this dataset.\n",
    "- After testing 7 machine learning model I observed LogisticRegression is providing best accuracy score.\n",
    "\n",
    "\n",
    "- will do model optimization later."
   ]
  },
  {
   "cell_type": "markdown",
   "id": "8d9d264f",
   "metadata": {},
   "source": [
    "# Acknowledgements\n",
    "\n",
    "1. Dua, D. and Graff, C. (2019). UCI Machine Learning Repository [http://archive.ics.uci.edu/ml]. Irvine, CA: University of California, School of Information and Computer Science.\n",
    "\n",
    "2. Bendi Venkata Ramana, Prof. M. S. Prasad Babu and Prof. N. B. Venkateswarlu, â€œA Critical Comparative Study of Liver Patients from USA and INDIA: An Exploratory Analysisâ€, International Journal of Computer Science Issues, ISSN :1694-0784, May 2012.\n",
    "\n",
    "3. 2. Bendi Venkata Ramana, Prof. M. S. Prasad Babu and Prof. N. B. Venkateswarlu, â€œA Critical Study of Selected Classification Algorithms for Liver Disease Diagnosisâ€, International Journal of Database Management Systems (IJDMS), Vol.3, No.2, ISSN : 0975-5705, PP 101-114, May 2011."
   ]
  },
  {
   "cell_type": "code",
   "execution_count": null,
   "id": "2057d294",
   "metadata": {},
   "outputs": [],
   "source": []
  }
 ],
 "metadata": {
  "kernelspec": {
   "display_name": "Python 3 (ipykernel)",
   "language": "python",
   "name": "python3"
  },
  "language_info": {
   "codemirror_mode": {
    "name": "ipython",
    "version": 3
   },
   "file_extension": ".py",
   "mimetype": "text/x-python",
   "name": "python",
   "nbconvert_exporter": "python",
   "pygments_lexer": "ipython3",
   "version": "3.8.12"
  },
  "toc": {
   "base_numbering": 1,
   "nav_menu": {},
   "number_sections": false,
   "sideBar": true,
   "skip_h1_title": false,
   "title_cell": "Table of Contents",
   "title_sidebar": "Contents",
   "toc_cell": false,
   "toc_position": {
    "height": "calc(100% - 180px)",
    "left": "10px",
    "top": "150px",
    "width": "221.6px"
   },
   "toc_section_display": true,
   "toc_window_display": true
  },
  "varInspector": {
   "cols": {
    "lenName": 16,
    "lenType": 16,
    "lenVar": 40
   },
   "kernels_config": {
    "python": {
     "delete_cmd_postfix": "",
     "delete_cmd_prefix": "del ",
     "library": "var_list.py",
     "varRefreshCmd": "print(var_dic_list())"
    },
    "r": {
     "delete_cmd_postfix": ") ",
     "delete_cmd_prefix": "rm(",
     "library": "var_list.r",
     "varRefreshCmd": "cat(var_dic_list()) "
    }
   },
   "types_to_exclude": [
    "module",
    "function",
    "builtin_function_or_method",
    "instance",
    "_Feature"
   ],
   "window_display": false
  }
 },
 "nbformat": 4,
 "nbformat_minor": 5
}
